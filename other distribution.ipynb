{
 "cells": [
  {
   "cell_type": "code",
   "execution_count": 10,
   "metadata": {},
   "outputs": [
    {
     "data": {
      "image/png": "[encoded data removed]",
      "text/plain": [
       "<Figure size 432x288 with 1 Axes>"
      ]
     },
     "metadata": {},
     "output_type": "display_data"
    },
    {
     "name": "stdout",
     "output_type": "stream",
     "text": [
      "Results will vary depending on random seed.  In general, stats should show some skew.\n"
     ]
    }
   ],
   "source": [
    "import numpy as np\n",
    "import pandas as pd\n",
    "import matplotlib.pyplot as plt\n",
    "%matplotlib inline\n",
    "#Generate a 2 binomial distribution with n=9,n=10 & p=0.1\n",
    "binomial = np.random.binomial(9, 0.1, 100)\n",
    "binomial = np.random.binomial(10,0.1,100)\n",
    "#generate two variables then take mean, median and sd \n",
    "var1 = np.random.binomial(9,0.1,100)\n",
    "var2 = np.random.binomial(10,0.1,100)\n",
    "var3 = var1+var2\n",
    "mean = np.mean(var3)\n",
    "sd =np.std(var3)\n",
    "\n",
    "plt.hist(var3)\n",
    "plt.axvline(x=mean,color='black')\n",
    "plt.axvline(x=mean+sd, color='red')\n",
    "plt.axvline(x=mean-sd, color='red')\n",
    "plt.show()\n"
   ]
  },
  {
   "cell_type": "code",
   "execution_count": 11,
   "metadata": {},
   "outputs": [
    {
     "data": {
      "image/png": "[encoded data removed]",
      "text/plain": [
       "<Figure size 432x288 with 1 Axes>"
      ]
     },
     "metadata": {},
     "output_type": "display_data"
    },
    {
     "name": "stdout",
     "output_type": "stream",
     "text": [
      "Results will vary depending on random seed.  In general, stats should show some skew.\n"
     ]
    }
   ],
   "source": [
    "import numpy as np\n",
    "import pandas as pd\n",
    "import matplotlib.pyplot as plt\n",
    "%matplotlib inline\n",
    "#Generate a gamma distribution with shape=10,15 and scale =2,5\n",
    "gamma = np.random.gamma(10,2,100)\n",
    "gamma = np.random.gamma(15,5,100)\n",
    "#generate two variables then take mean, median and sd \n",
    "var1 = np.random.gamma(10,2,100)\n",
    "var2 = np.random.gamma(15,5,100)\n",
    "var3 = var1+var2\n",
    "mean = np.mean(var3)\n",
    "sd =np.std(var3)\n",
    "\n",
    "plt.hist(var3)\n",
    "plt.axvline(x=mean,color='black')\n",
    "plt.axvline(x=mean+sd, color='red')\n",
    "plt.axvline(x=mean-sd, color='red')\n",
    "plt.show()\n"
   ]
  },
  {
   "cell_type": "code",
   "execution_count": 6,
   "metadata": {},
   "outputs": [
    {
     "data": {
      "image/png": "[encoded data removed]",
      "text/plain": [
       "<Figure size 432x288 with 1 Axes>"
      ]
     },
     "metadata": {},
     "output_type": "display_data"
    },
    {
     "name": "stdout",
     "output_type": "stream",
     "text": [
      "Results will vary depending on random seed.  In general, stats should show some skew.\n"
     ]
    }
   ],
   "source": [
    "import numpy as np\n",
    "import pandas as pd\n",
    "import matplotlib.pyplot as plt\n",
    "%matplotlib inline\n",
    "#Generate a gumbel with mu, beta 1, 0.1\n",
    "gumbe = np.random.gumbel(1, 0.1 ,100)\n",
    "gumber = np.random.gumbel(4,0.2,100)\n",
    "#generate two variables then take mean, median and sd \n",
    "var1 = np.random.gumbel(1,0.1,100)\n",
    "var2 = np.random.gumbel(4,0.2,100)\n",
    "var3 = var1+var2\n",
    "mean = np.mean(var3)\n",
    "sd =np.std(var3)\n",
    "\n",
    "plt.hist(var3)\n",
    "plt.axvline(x=mean,color='black')\n",
    "plt.axvline(x=mean+sd, color='red')\n",
    "plt.axvline(x=mean-sd, color='red')\n",
    "plt.show()\n",
    "\n"
   ]
  },
  {
   "cell_type": "code",
   "execution_count": 7,
   "metadata": {},
   "outputs": [
    {
     "data": {
      "image/png": "[encoded data removed]",
      "text/plain": [
       "<Figure size 432x288 with 1 Axes>"
      ]
     },
     "metadata": {},
     "output_type": "display_data"
    },
    {
     "name": "stdout",
     "output_type": "stream",
     "text": [
      "Results will vary depending on random seed.  In general, stats should show some skew.\n"
     ]
    }
   ],
   "source": [
    "import numpy as np\n",
    "import pandas as pd\n",
    "import matplotlib.pyplot as plt\n",
    "%matplotlib inline\n",
    "#generate a logistic distribution with loc, scale = 40,8\n",
    "logistic = np.random.logistic(40,8,100)\n",
    "logistic = np.random.logistic(50,10,100)\n",
    "#generate two variables then take mean, median and sd \n",
    "var1 = np.random.logistic(1,0.1,100)\n",
    "var2 = np.random.logistic(4,0.2,100)\n",
    "var3 = var1+var2\n",
    "mean = np.mean(var3)\n",
    "sd =np.std(var3)\n",
    "plt.hist(var3)\n",
    "plt.axvline(x=mean,color='black')\n",
    "plt.axvline(x=mean+sd, color='red')\n",
    "plt.axvline(x=mean-sd, color='red')\n",
    "plt.show()\n",
    "\n",
    "\n"
   ]
  },
  {
   "cell_type": "code",
   "execution_count": 9,
   "metadata": {},
   "outputs": [
    {
     "data": {
      "image/png": "[encoded data removed]",
      "text/plain": [
       "<Figure size 432x288 with 1 Axes>"
      ]
     },
     "metadata": {},
     "output_type": "display_data"
    }
   ],
   "source": [
    "import numpy as np\n",
    "import pandas as pd\n",
    "import matplotlib.pyplot as plt\n",
    "%matplotlib inline\n",
    "# Generate a Poisson distribution with lambda = 5, 20\n",
    "poisson = np.random.poisson(5, 100)\n",
    "poisson = np.random.poisson(20,100)\n",
    "#generate two variables then take mean, median and sd \n",
    "var1 = np.random.poisson(5 ,100)\n",
    "var2 = np.random.poisson(20, 100)\n",
    "var3 = var1+var2\n",
    "mean = np.mean(var3)\n",
    "sd =np.std(var3)\n",
    "plt.hist(var3)\n",
    "plt.axvline(x=mean,color='black')\n",
    "plt.axvline(x=mean+sd, color='red')\n",
    "plt.axvline(x=mean-sd, color='red')\n",
    "plt.show()\n",
    "\n",
    "\n",
    "\n"
   ]
  },
  {
   "cell_type": "code",
   "execution_count": 12,
   "metadata": {},
   "outputs": [
    {
     "data": {
      "image/png": "[encoded data removed]",
      "text/plain": [
       "<Figure size 432x288 with 1 Axes>"
      ]
     },
     "metadata": {},
     "output_type": "display_data"
    }
   ],
   "source": [
    "import numpy as np\n",
    "import pandas as pd\n",
    "import matplotlib.pyplot as plt\n",
    "%matplotlib inline\n",
    "#generate a triangle \n",
    "triangular = np.random.triangular(-3, 0, 8, 100)\n",
    "triangular = np.random.triangular(-2,0,10,100)\n",
    "#generate two variables then take mean, median and sd \n",
    "var1 = np.random.triangular(-3,0,8,100)\n",
    "var2 = np.random.triangular(-2,0,10, 100)\n",
    "var3 = var1+var2\n",
    "mean = np.mean(var3)\n",
    "sd =np.std(var3)\n",
    "plt.hist(var3)\n",
    "plt.axvline(x=mean,color='black')\n",
    "plt.axvline(x=mean+sd, color='red')\n",
    "plt.axvline(x=mean-sd, color='red')\n",
    "plt.show()\n",
    "\n"
   ]
  },
  {
   "cell_type": "markdown",
   "metadata": {},
   "source": [
    "Evaluate whether the descriptive statistics provided useful information about the variable. Can you identify any common characteristics of the distributions that could be usefully described using the mean and/or standard deviation, versus the ones that could not?\n",
    "\n",
    "Results will vary depending on random seed.  In general, stats should show some skew."
   ]
  },
  {
   "cell_type": "code",
   "execution_count": null,
   "metadata": {},
   "outputs": [],
   "source": [
    "Additionally:\n",
    " 1. Generate two normally-distributed variables, one with a mean of 5 and standard deviation of 0.5, \n",
    "and the other with a mean of 10 and standard deviation of 1.  \n",
    " 2. Add them together to create a third variable.\n",
    " 3. Graph the third variable using a histogram.\n",
    " 4. Compute the mean and standard deviation and plot them as vertical lines on the histogram.\n",
    " 5. Evaluate the descriptive statistics against the data"
   ]
  },
  {
   "cell_type": "code",
   "execution_count": 14,
   "metadata": {},
   "outputs": [
    {
     "data": {
      "image/png": "[encoded data removed]",
      "text/plain": [
       "<Figure size 432x288 with 1 Axes>"
      ]
     },
     "metadata": {},
     "output_type": "display_data"
    }
   ],
   "source": [
    "import numpy as np\n",
    "import matplotlib.pyplot as plt\n",
    "%matplotlib inline\n",
    "var1 = np.random.normal(5,.5, 100)\n",
    "var2 = np.random.normal(10,1, 100)\n",
    "var3 = var1+var2\n",
    "\n",
    "mean = np.mean(var3)\n",
    "sd = np.std(var3)\n",
    "\n",
    "plt.hist(var3)\n",
    "plt.axvline(x=mean,color='black')\n",
    "plt.axvline(x=mean+sd, color='red')\n",
    "plt.axvline(x=mean-sd, color='red')\n",
    "plt.show()"
   ]
  },
  {
   "cell_type": "markdown",
   "metadata": {},
   "source": [
    "Results will vary depending on random seed.  In general, stats should show some skew."
   ]
  }
 ],
 "metadata": {
  "kernelspec": {
   "display_name": "Python 3",
   "language": "python",
   "name": "python3"
  },
  "language_info": {
   "codemirror_mode": {
    "name": "ipython",
    "version": 3
   },
   "file_extension": ".py",
   "mimetype": "text/x-python",
   "name": "python",
   "nbconvert_exporter": "python",
   "pygments_lexer": "ipython3",
   "version": "3.6.5"
  }
 },
 "nbformat": 4,
 "nbformat_minor": 2
}
